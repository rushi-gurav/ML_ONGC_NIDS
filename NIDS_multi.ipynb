{
 "cells": [
  {
   "cell_type": "markdown",
   "id": "9a98f9cd",
   "metadata": {},
   "source": [
    " Load & Combine All CSV Files"
   ]
  },
  {
   "cell_type": "code",
   "execution_count": 2,
   "id": "e5d91e35",
   "metadata": {},
   "outputs": [
    {
     "name": "stdout",
     "output_type": "stream",
     "text": [
      "✅ Columns extracted from feature file: 49\n"
     ]
    },
    {
     "name": "stderr",
     "output_type": "stream",
     "text": [
      "C:\\Users\\HP\\AppData\\Local\\Temp\\ipykernel_356276\\2982573720.py:24: DtypeWarning: Columns (1,3,47) have mixed types. Specify dtype option on import or set low_memory=False.\n",
      "  df = pd.read_csv(file, header=None)  # No header in source files\n",
      "C:\\Users\\HP\\AppData\\Local\\Temp\\ipykernel_356276\\2982573720.py:24: DtypeWarning: Columns (3,39,47) have mixed types. Specify dtype option on import or set low_memory=False.\n",
      "  df = pd.read_csv(file, header=None)  # No header in source files\n"
     ]
    },
    {
     "name": "stdout",
     "output_type": "stream",
     "text": [
      "🧪 Columns in merged data before assignment: 49\n",
      "🎉 Column names successfully assigned!\n",
      "📋 Merged DataFrame shape: (2540047, 49)\n",
      "📝 Sample data:\n",
      "        srcip  sport          dstip dsport proto state       dur  sbytes  \\\n",
      "0  59.166.0.0   1390  149.171.126.6     53   udp   CON  0.001055     132   \n",
      "1  59.166.0.0  33661  149.171.126.9   1024   udp   CON  0.036133     528   \n",
      "2  59.166.0.6   1464  149.171.126.7     53   udp   CON  0.001119     146   \n",
      "\n",
      "   dbytes  sttl  ...  ct_ftp_cmd  ct_srv_src  ct_srv_dst ct_dst_ltm  \\\n",
      "0     164    31  ...           0           3           7          1   \n",
      "1     304    31  ...           0           2           4          2   \n",
      "2     178    31  ...           0          12           8          1   \n",
      "\n",
      "   ct_src_ ltm  ct_src_dport_ltm  ct_dst_sport_ltm  ct_dst_src_ltm  \\\n",
      "0            3                 1                 1               1   \n",
      "1            3                 1                 1               2   \n",
      "2            2                 2                 1               1   \n",
      "\n",
      "   attack_cat  Label  \n",
      "0         NaN      0  \n",
      "1         NaN      0  \n",
      "2         NaN      0  \n",
      "\n",
      "[3 rows x 49 columns]\n"
     ]
    }
   ],
   "source": [
    "# Step 1: Load & Merge UNSW-NB15 Dataset\n",
    "\n",
    "import pandas as pd\n",
    "\n",
    "# === Paths to data files ===\n",
    "data_files = [\n",
    "    'UNSW-NB15_1.csv',\n",
    "    'UNSW-NB15_2.csv',\n",
    "    'UNSW-NB15_3.csv',\n",
    "    'UNSW-NB15_4.csv'\n",
    "]\n",
    "feature_file = 'NUSW-NB15_features.csv'\n",
    "\n",
    "# === Load feature names (from 2nd column), no need to append anything ===\n",
    "features_df = pd.read_csv(feature_file, encoding='ISO-8859-1')\n",
    "column_names = features_df.iloc[:, 1].tolist()  # 2nd column has names\n",
    "\n",
    "# Confirm column count\n",
    "print(f\"✅ Columns extracted from feature file: {len(column_names)}\")\n",
    "\n",
    "# === Load and merge 4 data files ===\n",
    "merged_dataframes = []\n",
    "for file in data_files:\n",
    "    df = pd.read_csv(file, header=None)  # No header in source files\n",
    "    merged_dataframes.append(df)\n",
    "\n",
    "# Combine into one DataFrame\n",
    "merged_df = pd.concat(merged_dataframes, ignore_index=True)\n",
    "\n",
    "# Confirm column count matches\n",
    "print(f\"🧪 Columns in merged data before assignment: {merged_df.shape[1]}\")\n",
    "\n",
    "# === Assign column names ===\n",
    "if len(column_names) == merged_df.shape[1]:\n",
    "    merged_df.columns = column_names\n",
    "    print(\"🎉 Column names successfully assigned!\")\n",
    "else:\n",
    "    raise ValueError(f\"❌ Column count mismatch: {len(column_names)} names vs {merged_df.shape[1]} columns in data.\")\n",
    "\n",
    "# === Preview result ===\n",
    "print(\"📋 Merged DataFrame shape:\", merged_df.shape)\n",
    "print(\"📝 Sample data:\")\n",
    "print(merged_df.head(3))\n"
   ]
  },
  {
   "cell_type": "markdown",
   "id": "25a578e4",
   "metadata": {},
   "source": [
    " Data Cleaning"
   ]
  },
  {
   "cell_type": "code",
   "execution_count": 3,
   "id": "f4d4113f",
   "metadata": {},
   "outputs": [
    {
     "name": "stdout",
     "output_type": "stream",
     "text": [
      "🧹 Dropped columns: ['id', 'srcip', 'sport', 'dstip', 'dsport', 'Label']\n",
      "✅ Shape after column drop: (2540047, 44)\n",
      "📦 Duplicate rows found: 482497\n",
      "🔍 Sample duplicate rows:\n"
     ]
    },
    {
     "data": {
      "text/html": [
       "<div>\n",
       "<style scoped>\n",
       "    .dataframe tbody tr th:only-of-type {\n",
       "        vertical-align: middle;\n",
       "    }\n",
       "\n",
       "    .dataframe tbody tr th {\n",
       "        vertical-align: top;\n",
       "    }\n",
       "\n",
       "    .dataframe thead th {\n",
       "        text-align: right;\n",
       "    }\n",
       "</style>\n",
       "<table border=\"1\" class=\"dataframe\">\n",
       "  <thead>\n",
       "    <tr style=\"text-align: right;\">\n",
       "      <th></th>\n",
       "      <th>proto</th>\n",
       "      <th>state</th>\n",
       "      <th>dur</th>\n",
       "      <th>sbytes</th>\n",
       "      <th>dbytes</th>\n",
       "      <th>sttl</th>\n",
       "      <th>dttl</th>\n",
       "      <th>sloss</th>\n",
       "      <th>dloss</th>\n",
       "      <th>service</th>\n",
       "      <th>...</th>\n",
       "      <th>is_ftp_login</th>\n",
       "      <th>ct_ftp_cmd</th>\n",
       "      <th>ct_srv_src</th>\n",
       "      <th>ct_srv_dst</th>\n",
       "      <th>ct_dst_ltm</th>\n",
       "      <th>ct_src_ ltm</th>\n",
       "      <th>ct_src_dport_ltm</th>\n",
       "      <th>ct_dst_sport_ltm</th>\n",
       "      <th>ct_dst_src_ltm</th>\n",
       "      <th>attack_cat</th>\n",
       "    </tr>\n",
       "  </thead>\n",
       "  <tbody>\n",
       "    <tr>\n",
       "      <th>10</th>\n",
       "      <td>arp</td>\n",
       "      <td>INT</td>\n",
       "      <td>0.000000</td>\n",
       "      <td>46</td>\n",
       "      <td>0</td>\n",
       "      <td>0</td>\n",
       "      <td>0</td>\n",
       "      <td>0</td>\n",
       "      <td>0</td>\n",
       "      <td>-</td>\n",
       "      <td>...</td>\n",
       "      <td>0.0</td>\n",
       "      <td>0</td>\n",
       "      <td>2</td>\n",
       "      <td>2</td>\n",
       "      <td>2</td>\n",
       "      <td>2</td>\n",
       "      <td>2</td>\n",
       "      <td>2</td>\n",
       "      <td>2</td>\n",
       "      <td>NaN</td>\n",
       "    </tr>\n",
       "    <tr>\n",
       "      <th>11</th>\n",
       "      <td>arp</td>\n",
       "      <td>INT</td>\n",
       "      <td>0.000000</td>\n",
       "      <td>46</td>\n",
       "      <td>0</td>\n",
       "      <td>0</td>\n",
       "      <td>0</td>\n",
       "      <td>0</td>\n",
       "      <td>0</td>\n",
       "      <td>-</td>\n",
       "      <td>...</td>\n",
       "      <td>0.0</td>\n",
       "      <td>0</td>\n",
       "      <td>2</td>\n",
       "      <td>2</td>\n",
       "      <td>2</td>\n",
       "      <td>2</td>\n",
       "      <td>2</td>\n",
       "      <td>2</td>\n",
       "      <td>2</td>\n",
       "      <td>NaN</td>\n",
       "    </tr>\n",
       "    <tr>\n",
       "      <th>12</th>\n",
       "      <td>arp</td>\n",
       "      <td>INT</td>\n",
       "      <td>0.000000</td>\n",
       "      <td>46</td>\n",
       "      <td>0</td>\n",
       "      <td>0</td>\n",
       "      <td>0</td>\n",
       "      <td>0</td>\n",
       "      <td>0</td>\n",
       "      <td>-</td>\n",
       "      <td>...</td>\n",
       "      <td>0.0</td>\n",
       "      <td>0</td>\n",
       "      <td>2</td>\n",
       "      <td>2</td>\n",
       "      <td>2</td>\n",
       "      <td>2</td>\n",
       "      <td>2</td>\n",
       "      <td>2</td>\n",
       "      <td>2</td>\n",
       "      <td>NaN</td>\n",
       "    </tr>\n",
       "    <tr>\n",
       "      <th>72</th>\n",
       "      <td>udp</td>\n",
       "      <td>CON</td>\n",
       "      <td>0.001118</td>\n",
       "      <td>132</td>\n",
       "      <td>164</td>\n",
       "      <td>31</td>\n",
       "      <td>29</td>\n",
       "      <td>0</td>\n",
       "      <td>0</td>\n",
       "      <td>dns</td>\n",
       "      <td>...</td>\n",
       "      <td>0.0</td>\n",
       "      <td>0</td>\n",
       "      <td>12</td>\n",
       "      <td>8</td>\n",
       "      <td>5</td>\n",
       "      <td>3</td>\n",
       "      <td>3</td>\n",
       "      <td>2</td>\n",
       "      <td>2</td>\n",
       "      <td>NaN</td>\n",
       "    </tr>\n",
       "    <tr>\n",
       "      <th>121</th>\n",
       "      <td>ospf</td>\n",
       "      <td>INT</td>\n",
       "      <td>50.004337</td>\n",
       "      <td>384</td>\n",
       "      <td>0</td>\n",
       "      <td>1</td>\n",
       "      <td>0</td>\n",
       "      <td>0</td>\n",
       "      <td>0</td>\n",
       "      <td>-</td>\n",
       "      <td>...</td>\n",
       "      <td>0.0</td>\n",
       "      <td>0</td>\n",
       "      <td>2</td>\n",
       "      <td>4</td>\n",
       "      <td>4</td>\n",
       "      <td>2</td>\n",
       "      <td>2</td>\n",
       "      <td>4</td>\n",
       "      <td>2</td>\n",
       "      <td>NaN</td>\n",
       "    </tr>\n",
       "  </tbody>\n",
       "</table>\n",
       "<p>5 rows × 44 columns</p>\n",
       "</div>"
      ],
      "text/plain": [
       "    proto state        dur  sbytes  dbytes  sttl  dttl  sloss  dloss service  \\\n",
       "10    arp   INT   0.000000      46       0     0     0      0      0       -   \n",
       "11    arp   INT   0.000000      46       0     0     0      0      0       -   \n",
       "12    arp   INT   0.000000      46       0     0     0      0      0       -   \n",
       "72    udp   CON   0.001118     132     164    31    29      0      0     dns   \n",
       "121  ospf   INT  50.004337     384       0     1     0      0      0       -   \n",
       "\n",
       "     ...  is_ftp_login  ct_ftp_cmd  ct_srv_src  ct_srv_dst  ct_dst_ltm  \\\n",
       "10   ...           0.0           0           2           2           2   \n",
       "11   ...           0.0           0           2           2           2   \n",
       "12   ...           0.0           0           2           2           2   \n",
       "72   ...           0.0           0          12           8           5   \n",
       "121  ...           0.0           0           2           4           4   \n",
       "\n",
       "     ct_src_ ltm  ct_src_dport_ltm  ct_dst_sport_ltm  ct_dst_src_ltm  \\\n",
       "10             2                 2                 2               2   \n",
       "11             2                 2                 2               2   \n",
       "12             2                 2                 2               2   \n",
       "72             3                 3                 2               2   \n",
       "121            2                 2                 4               2   \n",
       "\n",
       "     attack_cat  \n",
       "10          NaN  \n",
       "11          NaN  \n",
       "12          NaN  \n",
       "72          NaN  \n",
       "121         NaN  \n",
       "\n",
       "[5 rows x 44 columns]"
      ]
     },
     "metadata": {},
     "output_type": "display_data"
    },
    {
     "name": "stdout",
     "output_type": "stream",
     "text": [
      "🧯 Total Null Values Found: 4996788\n",
      "🔍 Null value breakdown (columns with nulls only):\n",
      "ct_flw_http_mthd    1348145\n",
      "is_ftp_login        1429879\n",
      "attack_cat          2218764\n",
      "dtype: int64\n",
      "📐 Final shape before removing duplicates/nulls: (2540047, 44)\n"
     ]
    }
   ],
   "source": [
    "import pandas as pd\n",
    "\n",
    "# === Step 2: Clean the Dataset (Revised) ===\n",
    "\n",
    "# Columns to drop (excluding proto, state, service now)\n",
    "columns_to_drop = [\n",
    "    'id', 'srcip', 'sport', 'dstip', 'dsport',  # IPs and ports\n",
    "    'Label'                                     # We use multiclass `attack_cat`, not binary `label`\n",
    "]\n",
    "\n",
    "df_cleaned = merged_df.drop(columns=columns_to_drop, errors='ignore')\n",
    "print(f\"🧹 Dropped columns: {columns_to_drop}\")\n",
    "print(f\"✅ Shape after column drop: {df_cleaned.shape}\")\n",
    "\n",
    "# === Check for Duplicate Rows ===\n",
    "duplicate_count = df_cleaned.duplicated().sum()\n",
    "print(f\"📦 Duplicate rows found: {duplicate_count}\")\n",
    "\n",
    "# Optionally, show duplicate samples (first 5 if too many)\n",
    "if duplicate_count > 0:\n",
    "    print(\"🔍 Sample duplicate rows:\")\n",
    "    display(df_cleaned[df_cleaned.duplicated()].head())\n",
    "\n",
    "# === Check for Missing or Infinite Values ===\n",
    "# Replace inf with NaN first for consistency\n",
    "df_cleaned.replace([float('inf'), -float('inf')], pd.NA, inplace=True)\n",
    "\n",
    "# Count nulls per column\n",
    "null_summary = df_cleaned.isna().sum()\n",
    "total_nulls = null_summary.sum()\n",
    "\n",
    "print(f\"🧯 Total Null Values Found: {total_nulls}\")\n",
    "print(\"🔍 Null value breakdown (columns with nulls only):\")\n",
    "print(null_summary[null_summary > 0])\n",
    "\n",
    "# === Output shape and status ===\n",
    "print(f\"📐 Final shape before removing duplicates/nulls: {df_cleaned.shape}\")\n"
   ]
  },
  {
   "cell_type": "code",
   "execution_count": 4,
   "id": "757e9919",
   "metadata": {},
   "outputs": [
    {
     "name": "stdout",
     "output_type": "stream",
     "text": [
      "📦 Duplicate rows removed: 482497\n",
      "✅ Shape after duplicate removal: (2057550, 44)\n"
     ]
    }
   ],
   "source": [
    "# ✅ Print shape before dropping duplicates\n",
    "before_dup = df_cleaned.shape[0]\n",
    "\n",
    "# ✅ Drop only fully duplicated rows (all columns including target)\n",
    "df_cleaned = df_cleaned.drop_duplicates()\n",
    "\n",
    "# ✅ Print shape after\n",
    "after_dup = df_cleaned.shape[0]\n",
    "\n",
    "print(f\"📦 Duplicate rows removed: {before_dup - after_dup}\")\n",
    "print(f\"✅ Shape after duplicate removal: {df_cleaned.shape}\")\n"
   ]
  },
  {
   "cell_type": "code",
   "execution_count": 5,
   "id": "f2fad9e4",
   "metadata": {},
   "outputs": [
    {
     "name": "stdout",
     "output_type": "stream",
     "text": [
      "🔍 Total rows with at least one NULL: 2043312\n",
      "\n",
      "🧪 Sample rows with NULL values:\n"
     ]
    },
    {
     "data": {
      "text/html": [
       "<div>\n",
       "<style scoped>\n",
       "    .dataframe tbody tr th:only-of-type {\n",
       "        vertical-align: middle;\n",
       "    }\n",
       "\n",
       "    .dataframe tbody tr th {\n",
       "        vertical-align: top;\n",
       "    }\n",
       "\n",
       "    .dataframe thead th {\n",
       "        text-align: right;\n",
       "    }\n",
       "</style>\n",
       "<table border=\"1\" class=\"dataframe\">\n",
       "  <thead>\n",
       "    <tr style=\"text-align: right;\">\n",
       "      <th></th>\n",
       "      <th>proto</th>\n",
       "      <th>state</th>\n",
       "      <th>dur</th>\n",
       "      <th>sbytes</th>\n",
       "      <th>dbytes</th>\n",
       "      <th>sttl</th>\n",
       "      <th>dttl</th>\n",
       "      <th>sloss</th>\n",
       "      <th>dloss</th>\n",
       "      <th>service</th>\n",
       "      <th>...</th>\n",
       "      <th>is_ftp_login</th>\n",
       "      <th>ct_ftp_cmd</th>\n",
       "      <th>ct_srv_src</th>\n",
       "      <th>ct_srv_dst</th>\n",
       "      <th>ct_dst_ltm</th>\n",
       "      <th>ct_src_ ltm</th>\n",
       "      <th>ct_src_dport_ltm</th>\n",
       "      <th>ct_dst_sport_ltm</th>\n",
       "      <th>ct_dst_src_ltm</th>\n",
       "      <th>attack_cat</th>\n",
       "    </tr>\n",
       "  </thead>\n",
       "  <tbody>\n",
       "    <tr>\n",
       "      <th>0</th>\n",
       "      <td>udp</td>\n",
       "      <td>CON</td>\n",
       "      <td>0.001055</td>\n",
       "      <td>132</td>\n",
       "      <td>164</td>\n",
       "      <td>31</td>\n",
       "      <td>29</td>\n",
       "      <td>0</td>\n",
       "      <td>0</td>\n",
       "      <td>dns</td>\n",
       "      <td>...</td>\n",
       "      <td>0.0</td>\n",
       "      <td>0</td>\n",
       "      <td>3</td>\n",
       "      <td>7</td>\n",
       "      <td>1</td>\n",
       "      <td>3</td>\n",
       "      <td>1</td>\n",
       "      <td>1</td>\n",
       "      <td>1</td>\n",
       "      <td>NaN</td>\n",
       "    </tr>\n",
       "    <tr>\n",
       "      <th>1</th>\n",
       "      <td>udp</td>\n",
       "      <td>CON</td>\n",
       "      <td>0.036133</td>\n",
       "      <td>528</td>\n",
       "      <td>304</td>\n",
       "      <td>31</td>\n",
       "      <td>29</td>\n",
       "      <td>0</td>\n",
       "      <td>0</td>\n",
       "      <td>-</td>\n",
       "      <td>...</td>\n",
       "      <td>0.0</td>\n",
       "      <td>0</td>\n",
       "      <td>2</td>\n",
       "      <td>4</td>\n",
       "      <td>2</td>\n",
       "      <td>3</td>\n",
       "      <td>1</td>\n",
       "      <td>1</td>\n",
       "      <td>2</td>\n",
       "      <td>NaN</td>\n",
       "    </tr>\n",
       "    <tr>\n",
       "      <th>2</th>\n",
       "      <td>udp</td>\n",
       "      <td>CON</td>\n",
       "      <td>0.001119</td>\n",
       "      <td>146</td>\n",
       "      <td>178</td>\n",
       "      <td>31</td>\n",
       "      <td>29</td>\n",
       "      <td>0</td>\n",
       "      <td>0</td>\n",
       "      <td>dns</td>\n",
       "      <td>...</td>\n",
       "      <td>0.0</td>\n",
       "      <td>0</td>\n",
       "      <td>12</td>\n",
       "      <td>8</td>\n",
       "      <td>1</td>\n",
       "      <td>2</td>\n",
       "      <td>2</td>\n",
       "      <td>1</td>\n",
       "      <td>1</td>\n",
       "      <td>NaN</td>\n",
       "    </tr>\n",
       "    <tr>\n",
       "      <th>3</th>\n",
       "      <td>udp</td>\n",
       "      <td>CON</td>\n",
       "      <td>0.001209</td>\n",
       "      <td>132</td>\n",
       "      <td>164</td>\n",
       "      <td>31</td>\n",
       "      <td>29</td>\n",
       "      <td>0</td>\n",
       "      <td>0</td>\n",
       "      <td>dns</td>\n",
       "      <td>...</td>\n",
       "      <td>0.0</td>\n",
       "      <td>0</td>\n",
       "      <td>6</td>\n",
       "      <td>9</td>\n",
       "      <td>1</td>\n",
       "      <td>1</td>\n",
       "      <td>1</td>\n",
       "      <td>1</td>\n",
       "      <td>1</td>\n",
       "      <td>NaN</td>\n",
       "    </tr>\n",
       "    <tr>\n",
       "      <th>4</th>\n",
       "      <td>udp</td>\n",
       "      <td>CON</td>\n",
       "      <td>0.001169</td>\n",
       "      <td>146</td>\n",
       "      <td>178</td>\n",
       "      <td>31</td>\n",
       "      <td>29</td>\n",
       "      <td>0</td>\n",
       "      <td>0</td>\n",
       "      <td>dns</td>\n",
       "      <td>...</td>\n",
       "      <td>0.0</td>\n",
       "      <td>0</td>\n",
       "      <td>7</td>\n",
       "      <td>9</td>\n",
       "      <td>1</td>\n",
       "      <td>1</td>\n",
       "      <td>1</td>\n",
       "      <td>1</td>\n",
       "      <td>1</td>\n",
       "      <td>NaN</td>\n",
       "    </tr>\n",
       "  </tbody>\n",
       "</table>\n",
       "<p>5 rows × 44 columns</p>\n",
       "</div>"
      ],
      "text/plain": [
       "  proto state       dur  sbytes  dbytes  sttl  dttl  sloss  dloss service  \\\n",
       "0   udp   CON  0.001055     132     164    31    29      0      0     dns   \n",
       "1   udp   CON  0.036133     528     304    31    29      0      0       -   \n",
       "2   udp   CON  0.001119     146     178    31    29      0      0     dns   \n",
       "3   udp   CON  0.001209     132     164    31    29      0      0     dns   \n",
       "4   udp   CON  0.001169     146     178    31    29      0      0     dns   \n",
       "\n",
       "   ...  is_ftp_login  ct_ftp_cmd  ct_srv_src  ct_srv_dst  ct_dst_ltm  \\\n",
       "0  ...           0.0           0           3           7           1   \n",
       "1  ...           0.0           0           2           4           2   \n",
       "2  ...           0.0           0          12           8           1   \n",
       "3  ...           0.0           0           6           9           1   \n",
       "4  ...           0.0           0           7           9           1   \n",
       "\n",
       "   ct_src_ ltm  ct_src_dport_ltm  ct_dst_sport_ltm  ct_dst_src_ltm  attack_cat  \n",
       "0            3                 1                 1               1         NaN  \n",
       "1            3                 1                 1               2         NaN  \n",
       "2            2                 2                 1               1         NaN  \n",
       "3            1                 1                 1               1         NaN  \n",
       "4            1                 1                 1               1         NaN  \n",
       "\n",
       "[5 rows x 44 columns]"
      ]
     },
     "metadata": {},
     "output_type": "display_data"
    }
   ],
   "source": [
    "# === Step: Check for Nulls in Rows ===\n",
    "\n",
    "# 1. Total number of rows with at least one null\n",
    "rows_with_nulls = df_cleaned[df_cleaned.isnull().any(axis=1)]\n",
    "null_row_count = rows_with_nulls.shape[0]\n",
    "\n",
    "print(f\"🔍 Total rows with at least one NULL: {null_row_count}\")\n",
    "\n",
    "# 2. Preview some rows with nulls\n",
    "print(\"\\n🧪 Sample rows with NULL values:\")\n",
    "display(rows_with_nulls.head())  # or use print(rows_with_nulls.head()) if not in Jupyter\n"
   ]
  },
  {
   "cell_type": "code",
   "execution_count": 6,
   "id": "f66993d8",
   "metadata": {},
   "outputs": [
    {
     "name": "stdout",
     "output_type": "stream",
     "text": [
      "📦 Shape after dropping duplicates based on input features: (2046657, 44)\n"
     ]
    }
   ],
   "source": [
    "# Drop duplicates based on input features only\n",
    "df_cleaned = df_cleaned.drop_duplicates(subset=[col for col in df_cleaned.columns if col != 'attack_cat'])\n",
    "print(f\"📦 Shape after dropping duplicates based on input features: {df_cleaned.shape}\")\n"
   ]
  },
  {
   "cell_type": "code",
   "execution_count": null,
   "id": "a4ad5ea2",
   "metadata": {},
   "outputs": [],
   "source": []
  },
  {
   "cell_type": "code",
   "execution_count": 7,
   "id": "22b55fdc",
   "metadata": {},
   "outputs": [
    {
     "name": "stdout",
     "output_type": "stream",
     "text": [
      "🎯 Attack Category Label Mapping:\n",
      "{' Fuzzers': np.int64(0), ' Fuzzers ': np.int64(1), ' Reconnaissance ': np.int64(2), ' Shellcode ': np.int64(3), 'Analysis': np.int64(4), 'Backdoor': np.int64(5), 'Backdoors': np.int64(6), 'DoS': np.int64(7), 'Exploits': np.int64(8), 'Generic': np.int64(9), 'Reconnaissance': np.int64(10), 'Shellcode': np.int64(11), 'Worms': np.int64(12), nan: np.int64(13)}\n"
     ]
    }
   ],
   "source": [
    "from sklearn.preprocessing import LabelEncoder\n",
    "\n",
    "# Target column\n",
    "y = df_cleaned['attack_cat']\n",
    "\n",
    "# Encode target\n",
    "le = LabelEncoder()\n",
    "y_encoded = le.fit_transform(y)\n",
    "\n",
    "# Optional: Show class mapping\n",
    "label_mapping = dict(zip(le.classes_, le.transform(le.classes_)))\n",
    "print(\"🎯 Attack Category Label Mapping:\")\n",
    "print(label_mapping)\n"
   ]
  },
  {
   "cell_type": "markdown",
   "id": "29f62c8b",
   "metadata": {},
   "source": [
    "Encode Target & Categorical Columns"
   ]
  },
  {
   "cell_type": "code",
   "execution_count": 8,
   "id": "a7eed59d",
   "metadata": {},
   "outputs": [
    {
     "name": "stdout",
     "output_type": "stream",
     "text": [
      "🧪 Available columns in X:\n",
      "['proto', 'state', 'dur', 'sbytes', 'dbytes', 'sttl', 'dttl', 'sloss', 'dloss', 'service', 'Sload', 'Dload', 'Spkts', 'Dpkts', 'swin', 'dwin', 'stcpb', 'dtcpb', 'smeansz', 'dmeansz', 'trans_depth', 'res_bdy_len', 'Sjit', 'Djit', 'Stime', 'Ltime', 'Sintpkt', 'Dintpkt', 'tcprtt', 'synack', 'ackdat', 'is_sm_ips_ports', 'ct_state_ttl', 'ct_flw_http_mthd', 'is_ftp_login', 'ct_ftp_cmd', 'ct_srv_src', 'ct_srv_dst', 'ct_dst_ltm', 'ct_src_ ltm', 'ct_src_dport_ltm', 'ct_dst_sport_ltm', 'ct_dst_src_ltm']\n"
     ]
    }
   ],
   "source": [
    "# Assuming your cleaned DataFrame is called df_cleaned\n",
    "\n",
    "# Separate features (X) and target (y)\n",
    "X = df_cleaned.drop(columns=['attack_cat'])\n",
    "y = df_cleaned['attack_cat']\n",
    "\n",
    "# Now you can safely print column names\n",
    "print(\"🧪 Available columns in X:\")\n",
    "print(X.columns.tolist())\n"
   ]
  },
  {
   "cell_type": "code",
   "execution_count": 12,
   "id": "d1292a99",
   "metadata": {},
   "outputs": [
    {
     "name": "stdout",
     "output_type": "stream",
     "text": [
      "🔍 Categorical columns before encoding: ['proto', 'state', 'service', 'ct_ftp_cmd']\n"
     ]
    }
   ],
   "source": [
    "from sklearn.compose import ColumnTransformer\n",
    "from sklearn.preprocessing import OneHotEncoder, StandardScaler\n",
    "\n",
    "# 1. Identify categorical columns\n",
    "categorical_cols = X.select_dtypes(include=['object']).columns.tolist()\n",
    "print(\"🔍 Categorical columns before encoding:\", categorical_cols)\n",
    "\n",
    "# 2. Convert all categorical columns to string (to avoid mixed types)\n",
    "X[categorical_cols] = X[categorical_cols].astype(str)\n",
    "\n",
    "# 3. Define transformer: OneHot for categorical, passthrough for numeric\n",
    "preprocessor = ColumnTransformer(\n",
    "    transformers=[\n",
    "        ('cat', OneHotEncoder(handle_unknown='ignore', sparse_output=False), categorical_cols)\n",
    "    ],\n",
    "    remainder='passthrough'\n",
    ")\n",
    "\n",
    "# 4. Apply transformations\n",
    "X_encoded = preprocessor.fit_transform(X)\n",
    "\n",
    "# 5. Scale features\n",
    "scaler = StandardScaler()\n",
    "X_scaled = scaler.fit_transform(X_encoded)\n",
    "\n",
    "\n"
   ]
  },
  {
   "cell_type": "code",
   "execution_count": 13,
   "id": "f6ba4506",
   "metadata": {},
   "outputs": [
    {
     "name": "stdout",
     "output_type": "stream",
     "text": [
      "🎯 Attack Category Encoding: {' Fuzzers': np.int64(0), ' Fuzzers ': np.int64(1), ' Reconnaissance ': np.int64(2), ' Shellcode ': np.int64(3), 'Analysis': np.int64(4), 'Backdoor': np.int64(5), 'Backdoors': np.int64(6), 'DoS': np.int64(7), 'Exploits': np.int64(8), 'Generic': np.int64(9), 'Reconnaissance': np.int64(10), 'Shellcode': np.int64(11), 'Worms': np.int64(12), nan: np.int64(13)}\n",
      "🔍 Detected categorical columns: ['proto', 'state', 'service', 'ct_ftp_cmd']\n",
      "✅ Target shape: (2046657,)\n",
      "📌 Sample encoded features:\n",
      "   proto_3pc  proto_a/n  proto_aes-sp3-d  proto_any  proto_argus  proto_aris  \\\n",
      "0        0.0        0.0              0.0        0.0          0.0         0.0   \n",
      "1        0.0        0.0              0.0        0.0          0.0         0.0   \n",
      "2        0.0        0.0              0.0        0.0          0.0         0.0   \n",
      "3        0.0        0.0              0.0        0.0          0.0         0.0   \n",
      "4        0.0        0.0              0.0        0.0          0.0         0.0   \n",
      "\n",
      "   proto_arp  proto_ax.25  proto_bbn-rcc  proto_bna  ...  ct_state_ttl  \\\n",
      "0        0.0          0.0            0.0        0.0  ...           0.0   \n",
      "1        0.0          0.0            0.0        0.0  ...           0.0   \n",
      "2        0.0          0.0            0.0        0.0  ...           0.0   \n",
      "3        0.0          0.0            0.0        0.0  ...           0.0   \n",
      "4        0.0          0.0            0.0        0.0  ...           0.0   \n",
      "\n",
      "   ct_flw_http_mthd  is_ftp_login  ct_srv_src  ct_srv_dst  ct_dst_ltm  \\\n",
      "0               0.0           0.0         3.0         7.0         1.0   \n",
      "1               0.0           0.0         2.0         4.0         2.0   \n",
      "2               0.0           0.0        12.0         8.0         1.0   \n",
      "3               0.0           0.0         6.0         9.0         1.0   \n",
      "4               0.0           0.0         7.0         9.0         1.0   \n",
      "\n",
      "   ct_src__ltm  ct_src_dport_ltm  ct_dst_sport_ltm  ct_dst_src_ltm  \n",
      "0          3.0               1.0               1.0             1.0  \n",
      "1          3.0               1.0               1.0             2.0  \n",
      "2          2.0               2.0               1.0             1.0  \n",
      "3          1.0               1.0               1.0             1.0  \n",
      "4          1.0               1.0               1.0             1.0  \n",
      "\n",
      "[5 rows x 212 columns]\n"
     ]
    }
   ],
   "source": [
    "from sklearn.preprocessing import LabelEncoder, OneHotEncoder\n",
    "from sklearn.compose import ColumnTransformer\n",
    "import pandas as pd\n",
    "\n",
    "# === Step 1: Clean column names ===\n",
    "df_encoded = df_cleaned.copy()\n",
    "df_encoded.columns = df_encoded.columns.str.strip().str.lower().str.replace(' ', '_')\n",
    "\n",
    "# === Step 2: Encode Target Column ===\n",
    "le = LabelEncoder()\n",
    "df_encoded['attack_cat_encoded'] = le.fit_transform(df_encoded['attack_cat'])\n",
    "\n",
    "# Save mapping for UI or analysis\n",
    "attack_cat_mapping = dict(zip(le.classes_, le.transform(le.classes_)))\n",
    "print(\"🎯 Attack Category Encoding:\", attack_cat_mapping)\n",
    "\n",
    "# === Step 3: Split Features and Target ===\n",
    "X = df_encoded.drop(columns=['attack_cat', 'attack_cat_encoded'])  # Features\n",
    "y = df_encoded['attack_cat_encoded']  # Target\n",
    "\n",
    "# === Step 4: Detect and fix categorical columns ===\n",
    "categorical_cols = X.select_dtypes(include='object').columns.tolist()\n",
    "print(\"🔍 Detected categorical columns:\", categorical_cols)\n",
    "\n",
    "# 🔧 Fix for encoder error: force all categorical columns to string type\n",
    "X[categorical_cols] = X[categorical_cols].astype(str)\n",
    "\n",
    "# === Step 5: Define ColumnTransformer for encoding ===\n",
    "preprocessor = ColumnTransformer(\n",
    "    transformers=[\n",
    "        ('cat', OneHotEncoder(handle_unknown='ignore', sparse_output=False), categorical_cols)\n",
    "    ],\n",
    "    remainder='passthrough'  # Keep numerical columns\n",
    ")\n",
    "\n",
    "# === Step 6: Apply the transformer ===\n",
    "X_encoded = preprocessor.fit_transform(X)\n",
    "\n",
    "# === Step 7: Retrieve final column names ===\n",
    "ohe = preprocessor.named_transformers_['cat']\n",
    "encoded_feature_names = ohe.get_feature_names_out(categorical_cols)\n",
    "\n",
    "# Get numerical columns that were passed through\n",
    "numerical_cols = [col for col in X.columns if col not in categorical_cols]\n",
    "final_feature_names = list(encoded_feature_names) + numerical_cols\n",
    "\n",
    "# === Step 8: Convert to DataFrame ===\n",
    "X_encoded_df = pd.DataFrame(X_encoded, columns=final_feature_names)\n",
    "\n",
    "# === Step 9: Align indexes ===\n",
    "X_encoded_df.reset_index(drop=True, inplace=True)\n",
    "y.reset_index(drop=True, inplace=True)\n",
    "\n",
    "# ✅ Final Output Summary\n",
    "print(f\"✅ Target shape: {y.shape}\")\n",
    "print(\"📌 Sample encoded features:\")\n",
    "print(X_encoded_df.head())\n"
   ]
  },
  {
   "cell_type": "markdown",
   "id": "654a98dd",
   "metadata": {},
   "source": [
    "Import the scaler"
   ]
  },
  {
   "cell_type": "code",
   "execution_count": 25,
   "id": "4941e48e",
   "metadata": {},
   "outputs": [],
   "source": [
    "from sklearn.preprocessing import StandardScaler\n"
   ]
  },
  {
   "cell_type": "markdown",
   "id": "fff8eed3",
   "metadata": {},
   "source": [
    "Apply scaling"
   ]
  },
  {
   "cell_type": "code",
   "execution_count": 26,
   "id": "5867911c",
   "metadata": {},
   "outputs": [
    {
     "name": "stdout",
     "output_type": "stream",
     "text": [
      "📊 Scaled feature preview:\n",
      "   proto_3pc  proto_a/n  proto_aes-sp3-d  proto_any  proto_argus  proto_aris  \\\n",
      "0  -0.001849  -0.001849        -0.001849  -0.003203    -0.001849   -0.001849   \n",
      "1  -0.001849  -0.001849        -0.001849  -0.003203    -0.001849   -0.001849   \n",
      "2  -0.001849  -0.001849        -0.001849  -0.003203    -0.001849   -0.001849   \n",
      "3  -0.001849  -0.001849        -0.001849  -0.003203    -0.001849   -0.001849   \n",
      "4  -0.001849  -0.001849        -0.001849  -0.003203    -0.001849   -0.001849   \n",
      "\n",
      "   proto_arp  proto_ax.25  proto_bbn-rcc  proto_bna  ...  ct_state_ttl  \\\n",
      "0  -0.055744    -0.001849      -0.001849  -0.001849  ...     -0.221193   \n",
      "1  -0.055744    -0.001849      -0.001849  -0.001849  ...     -0.221193   \n",
      "2  -0.055744    -0.001849      -0.001849  -0.001849  ...     -0.221193   \n",
      "3  -0.055744    -0.001849      -0.001849  -0.001849  ...     -0.221193   \n",
      "4  -0.055744    -0.001849      -0.001849  -0.001849  ...     -0.221193   \n",
      "\n",
      "   ct_flw_http_mthd  is_ftp_login  ct_srv_src  ct_srv_dst  ct_dst_ltm  \\\n",
      "0         -0.332148     -0.196747   -0.463235    0.371813   -0.820557   \n",
      "1         -0.332148     -0.196747   -0.656706   -0.230135   -0.513665   \n",
      "2         -0.332148     -0.196747    1.278011    0.572462   -0.820557   \n",
      "3         -0.332148     -0.196747    0.117181    0.773111   -0.820557   \n",
      "4         -0.332148     -0.196747    0.310652    0.773111   -0.820557   \n",
      "\n",
      "   ct_src__ltm  ct_src_dport_ltm  ct_dst_sport_ltm  ct_dst_src_ltm  \n",
      "0    -0.323240         -0.230545         -0.140165       -0.396333  \n",
      "1    -0.323240         -0.230545         -0.140165       -0.152460  \n",
      "2    -0.602273          0.146764         -0.140165       -0.396333  \n",
      "3    -0.881306         -0.230545         -0.140165       -0.396333  \n",
      "4    -0.881306         -0.230545         -0.140165       -0.396333  \n",
      "\n",
      "[5 rows x 212 columns]\n"
     ]
    }
   ],
   "source": [
    "# Initialize scaler\n",
    "scaler = StandardScaler()\n",
    "\n",
    "# Apply scaler to all columns (they are all numeric now)\n",
    "X_scaled = scaler.fit_transform(X_encoded_df)\n",
    "\n",
    "# Optional: Convert back to DataFrame for readability\n",
    "X_scaled_df = pd.DataFrame(X_scaled, columns=X_encoded_df.columns)\n",
    "\n",
    "# Preview result\n",
    "print(\"📊 Scaled feature preview:\")\n",
    "print(X_scaled_df.head())\n"
   ]
  },
  {
   "cell_type": "markdown",
   "id": "bb2743fc",
   "metadata": {},
   "source": [
    "Feature Selection using SelectKBest (Top 40 Features)"
   ]
  },
  {
   "cell_type": "code",
   "execution_count": 28,
   "id": "d1b9f496",
   "metadata": {},
   "outputs": [],
   "source": [
    "from sklearn.feature_selection import SelectKBest, f_classif\n"
   ]
  },
  {
   "cell_type": "code",
   "execution_count": null,
   "id": "a17592cd",
   "metadata": {},
   "outputs": [],
   "source": [
    "from sklearn.impute import SimpleImputer\n",
    "\n",
    "# Fill NaNs with median\n",
    "imputer = SimpleImputer(strategy='median')\n",
    "X_imputed = imputer.fit_transform(X_scaled_df)\n",
    "\n",
    "# Feature selection\n",
    "selector = SelectKBest(score_func=f_classif, k=40)\n",
    "X_selected = selector.fit_transform(X_imputed, y_encoded)\n",
    "\n",
    "selected_feature_indices = selector.get_support(indices=True)\n",
    "selected_feature_names = X_scaled_df.columns[selected_feature_indices].tolist()\n",
    "\n",
    "print(\"✅ Selected Top 40 Features:\")\n",
    "print(selected_feature_names)\n"
   ]
  },
  {
   "cell_type": "markdown",
   "id": "59aa3858",
   "metadata": {},
   "source": [
    "Apply SelectKBest to the scaled features"
   ]
  },
  {
   "cell_type": "code",
   "execution_count": 24,
   "id": "dc049ee7",
   "metadata": {},
   "outputs": [
    {
     "name": "stdout",
     "output_type": "stream",
     "text": [
      "🏆 Selected Top 40 Features:\n",
      "['service_-', 'service_dns', 'service_ftp', 'service_ftp-data', 'service_http', 'service_pop3', 'service_smtp', 'dur', 'sttl', 'dttl', 'dloss', 'sload', 'dload', 'spkts', 'dpkts', 'swin', 'dwin', 'stcpb', 'dtcpb', 'smeansz', 'dmeansz', 'trans_depth', 'sjit', 'djit', 'stime', 'ltime', 'sintpkt', 'dintpkt', 'tcprtt', 'synack', 'ackdat', 'ct_state_ttl', 'ct_flw_http_mthd', 'ct_srv_src', 'ct_srv_dst', 'ct_dst_ltm', 'ct_src__ltm', 'ct_src_dport_ltm', 'ct_dst_sport_ltm', 'ct_dst_src_ltm']\n",
      "✅ X_final shape: (14160, 40)\n"
     ]
    },
    {
     "name": "stderr",
     "output_type": "stream",
     "text": [
      "d:\\ONGC_ML\\.venv\\Lib\\site-packages\\sklearn\\feature_selection\\_univariate_selection.py:111: UserWarning: Features [43] are constant.\n",
      "  warnings.warn(\"Features %s are constant.\" % constant_features_idx, UserWarning)\n",
      "d:\\ONGC_ML\\.venv\\Lib\\site-packages\\sklearn\\feature_selection\\_univariate_selection.py:112: RuntimeWarning: invalid value encountered in divide\n",
      "  f = msb / msw\n"
     ]
    }
   ],
   "source": [
    "from sklearn.feature_selection import SelectKBest, f_classif\n",
    "\n",
    "# Select top 40 features using ANOVA F-value\n",
    "selector = SelectKBest(score_func=f_classif, k=40)\n",
    "X_selected = selector.fit_transform(X_scaled_df, y_encoded)\n",
    "\n",
    "# Get feature names\n",
    "mask = selector.get_support()\n",
    "selected_features = X_scaled_df.columns[mask]\n",
    "print(\"🏆 Selected Top 40 Features:\")\n",
    "print(selected_features.tolist())\n",
    "\n",
    "# Final dataframe\n",
    "X_final = pd.DataFrame(X_selected, columns=selected_features)\n",
    "print(\"✅ X_final shape:\", X_final.shape)\n"
   ]
  },
  {
   "cell_type": "markdown",
   "id": "41808fc5",
   "metadata": {},
   "source": [
    "RandomOverSampler for Balancing"
   ]
  },
  {
   "cell_type": "code",
   "execution_count": 25,
   "id": "0253ee50",
   "metadata": {},
   "outputs": [
    {
     "name": "stdout",
     "output_type": "stream",
     "text": [
      "🔍 Class distribution before oversampling:\n",
      "Counter({np.int64(4): 4026, np.int64(0): 3944, np.int64(5): 2824, np.int64(6): 1740, np.int64(3): 809, np.int64(1): 287, np.int64(2): 283, np.int64(7): 223, np.int64(8): 24})\n",
      "\n",
      "✅ Class distribution after oversampling:\n",
      "Counter({np.int64(4): 4026, np.int64(6): 4026, np.int64(3): 4026, np.int64(5): 4026, np.int64(7): 4026, np.int64(0): 4026, np.int64(8): 4026, np.int64(2): 4026, np.int64(1): 4026})\n",
      "📦 X_balanced shape: (36234, 40)\n",
      "🎯 y_balanced shape: (36234,)\n"
     ]
    }
   ],
   "source": [
    "from imblearn.over_sampling import RandomOverSampler\n",
    "from collections import Counter\n",
    "\n",
    "# Show class distribution before balancing\n",
    "print(\"🔍 Class distribution before oversampling:\")\n",
    "print(Counter(y_encoded))\n",
    "\n",
    "# Initialize oversampler\n",
    "ros = RandomOverSampler(random_state=42)\n",
    "\n",
    "# Apply oversampling\n",
    "X_balanced, y_balanced = ros.fit_resample(X_final, y_encoded)\n",
    "\n",
    "# Show new class distribution\n",
    "print(\"\\n✅ Class distribution after oversampling:\")\n",
    "print(Counter(y_balanced))\n",
    "\n",
    "# Final shapes\n",
    "print(\"📦 X_balanced shape:\", X_balanced.shape)\n",
    "print(\"🎯 y_balanced shape:\", y_balanced.shape)\n"
   ]
  },
  {
   "cell_type": "code",
   "execution_count": 27,
   "id": "632d1054",
   "metadata": {},
   "outputs": [],
   "source": [
    "from sklearn.preprocessing import LabelEncoder\n",
    "\n",
    "# Encode the 'attack_cat' column (target)\n",
    "label_encoder = LabelEncoder()\n",
    "y_encoded = label_encoder.fit_transform(y)\n"
   ]
  },
  {
   "cell_type": "markdown",
   "id": "8db8adc7",
   "metadata": {},
   "source": [
    "✅ 9 Attack Categories:\n",
    "1. Analysis\n",
    "2. Backdoor\n",
    "3. DoS\n",
    "4. Exploits\n",
    "5. Fuzzers\n",
    "6. Generic\n",
    "7. Reconnaissance\n",
    "8. Shellcode\n",
    "9. Worms\n"
   ]
  },
  {
   "cell_type": "code",
   "execution_count": 28,
   "id": "ee21ccc7",
   "metadata": {},
   "outputs": [
    {
     "name": "stderr",
     "output_type": "stream",
     "text": [
      "C:\\Users\\HP\\AppData\\Local\\Temp\\ipykernel_1097436\\2701592588.py:12: FutureWarning: \n",
      "\n",
      "Passing `palette` without assigning `hue` is deprecated and will be removed in v0.14.0. Assign the `x` variable to `hue` and set `legend=False` for the same effect.\n",
      "\n",
      "  sns.countplot(x=y_original_names, order=np.unique(y_original_names), palette='coolwarm')\n",
      "C:\\Users\\HP\\AppData\\Local\\Temp\\ipykernel_1097436\\2701592588.py:17: UserWarning: Glyph 128201 (\\N{CHART WITH DOWNWARDS TREND}) missing from font(s) DejaVu Sans.\n",
      "  plt.tight_layout()\n",
      "d:\\ONGC_ML\\.venv\\Lib\\site-packages\\IPython\\core\\pylabtools.py:170: UserWarning: Glyph 128201 (\\N{CHART WITH DOWNWARDS TREND}) missing from font(s) DejaVu Sans.\n",
      "  fig.canvas.print_figure(bytes_io, **kw)\n"
     ]
    },
    {
     "data": {
      "image/png": "[encoded data removed]",
      "text/plain": [
       "<Figure size 1200x500 with 1 Axes>"
      ]
     },
     "metadata": {},
     "output_type": "display_data"
    },
    {
     "name": "stderr",
     "output_type": "stream",
     "text": [
      "C:\\Users\\HP\\AppData\\Local\\Temp\\ipykernel_1097436\\2701592588.py:22: FutureWarning: \n",
      "\n",
      "Passing `palette` without assigning `hue` is deprecated and will be removed in v0.14.0. Assign the `x` variable to `hue` and set `legend=False` for the same effect.\n",
      "\n",
      "  sns.countplot(x=y_balanced_names, order=np.unique(y_balanced_names), palette='viridis')\n",
      "C:\\Users\\HP\\AppData\\Local\\Temp\\ipykernel_1097436\\2701592588.py:27: UserWarning: Glyph 128200 (\\N{CHART WITH UPWARDS TREND}) missing from font(s) DejaVu Sans.\n",
      "  plt.tight_layout()\n",
      "d:\\ONGC_ML\\.venv\\Lib\\site-packages\\IPython\\core\\pylabtools.py:170: UserWarning: Glyph 128200 (\\N{CHART WITH UPWARDS TREND}) missing from font(s) DejaVu Sans.\n",
      "  fig.canvas.print_figure(bytes_io, **kw)\n"
     ]
    },
    {
     "data": {
      "image/png": "[encoded data removed]",
      "text/plain": [
       "<Figure size 1200x500 with 1 Axes>"
      ]
     },
     "metadata": {},
     "output_type": "display_data"
    }
   ],
   "source": [
    "import matplotlib.pyplot as plt\n",
    "import seaborn as sns\n",
    "from collections import Counter\n",
    "\n",
    "# Convert encoded labels back to original names for better visuals\n",
    "import numpy as np\n",
    "y_original_names = label_encoder.inverse_transform(y_encoded)\n",
    "y_balanced_names = label_encoder.inverse_transform(y_balanced)\n",
    "\n",
    "# === 1. BEFORE Oversampling ===\n",
    "plt.figure(figsize=(12, 5))\n",
    "sns.countplot(x=y_original_names, order=np.unique(y_original_names), palette='coolwarm')\n",
    "plt.title(\"📉 Attack Category Distribution (Before Oversampling)\", fontsize=14)\n",
    "plt.xticks(rotation=45)\n",
    "plt.xlabel(\"Attack Category\")\n",
    "plt.ylabel(\"Sample Count\")\n",
    "plt.tight_layout()\n",
    "plt.show()\n",
    "\n",
    "# === 2. AFTER Oversampling ===\n",
    "plt.figure(figsize=(12, 5))\n",
    "sns.countplot(x=y_balanced_names, order=np.unique(y_balanced_names), palette='viridis')\n",
    "plt.title(\"📈 Attack Category Distribution (After Oversampling)\", fontsize=14)\n",
    "plt.xticks(rotation=45)\n",
    "plt.xlabel(\"Attack Category\")\n",
    "plt.ylabel(\"Sample Count\")\n",
    "plt.tight_layout()\n",
    "plt.show()\n"
   ]
  },
  {
   "cell_type": "markdown",
   "id": "3b940e7f",
   "metadata": {},
   "source": [
    "Train-Test Split\n",
    "We'll split the balanced dataset (X_balanced_selected, y_balanced) into training and test sets using:\n",
    "\n",
    "80% for training,\n",
    "\n",
    "20% for testing,\n",
    "\n",
    "Stratify=y_balanced (to preserve class distribution),\n",
    "\n",
    "random_state=42 (for reproducibility)."
   ]
  },
  {
   "cell_type": "code",
   "execution_count": 30,
   "id": "8268b892",
   "metadata": {},
   "outputs": [
    {
     "name": "stderr",
     "output_type": "stream",
     "text": [
      "d:\\ONGC_ML\\.venv\\Lib\\site-packages\\sklearn\\feature_selection\\_univariate_selection.py:111: UserWarning: Features [43] are constant.\n",
      "  warnings.warn(\"Features %s are constant.\" % constant_features_idx, UserWarning)\n",
      "d:\\ONGC_ML\\.venv\\Lib\\site-packages\\sklearn\\feature_selection\\_univariate_selection.py:112: RuntimeWarning: invalid value encountered in divide\n",
      "  f = msb / msw\n"
     ]
    }
   ],
   "source": [
    "from sklearn.feature_selection import SelectKBest, f_classif\n",
    "\n",
    "selector = SelectKBest(score_func=f_classif, k=40)\n",
    "X_selected = selector.fit_transform(X_scaled_df, y_encoded)\n"
   ]
  },
  {
   "cell_type": "code",
   "execution_count": 32,
   "id": "e593ac14",
   "metadata": {},
   "outputs": [],
   "source": [
    "from imblearn.over_sampling import RandomOverSampler\n",
    "\n",
    "ros = RandomOverSampler(random_state=42)\n",
    "X_balanced_selected, y_balanced = ros.fit_resample(X_selected, y_encoded)\n"
   ]
  },
  {
   "cell_type": "code",
   "execution_count": 33,
   "id": "b32b1ae5",
   "metadata": {},
   "outputs": [
    {
     "name": "stdout",
     "output_type": "stream",
     "text": [
      "✅ X_train shape: (28987, 40)\n",
      "✅ X_test shape:  (7247, 40)\n",
      "✅ y_train shape: (28987,)\n",
      "✅ y_test shape:  (7247,)\n",
      "\n",
      "📊 Class Distribution in y_train:\n",
      "  0: 3221\n",
      "  1: 3221\n",
      "  2: 3221\n",
      "  3: 3220\n",
      "  4: 3221\n",
      "  5: 3221\n",
      "  6: 3220\n",
      "  7: 3221\n",
      "  8: 3221\n",
      "\n",
      "📊 Class Distribution in y_test:\n",
      "  0: 805\n",
      "  1: 805\n",
      "  2: 805\n",
      "  3: 806\n",
      "  4: 805\n",
      "  5: 805\n",
      "  6: 806\n",
      "  7: 805\n",
      "  8: 805\n"
     ]
    }
   ],
   "source": [
    "from sklearn.model_selection import train_test_split\n",
    "import numpy as np\n",
    "\n",
    "# === Train-Test Split (80% Train, 20% Test) ===\n",
    "X_train, X_test, y_train, y_test = train_test_split(\n",
    "    X_balanced_selected,\n",
    "    y_balanced,\n",
    "    test_size=0.2,\n",
    "    stratify=y_balanced,\n",
    "    random_state=42\n",
    ")\n",
    "\n",
    "# === Confirm Shapes ===\n",
    "print(f\"✅ X_train shape: {X_train.shape}\")\n",
    "print(f\"✅ X_test shape:  {X_test.shape}\")\n",
    "print(f\"✅ y_train shape: {y_train.shape}\")\n",
    "print(f\"✅ y_test shape:  {y_test.shape}\")\n",
    "\n",
    "# === Confirm Class Distribution ===\n",
    "unique_train, counts_train = np.unique(y_train, return_counts=True)\n",
    "unique_test, counts_test = np.unique(y_test, return_counts=True)\n",
    "\n",
    "print(\"\\n📊 Class Distribution in y_train:\")\n",
    "for label, count in zip(unique_train, counts_train):\n",
    "    print(f\"  {label_encoder.inverse_transform([label])[0]}: {count}\")\n",
    "\n",
    "print(\"\\n📊 Class Distribution in y_test:\")\n",
    "for label, count in zip(unique_test, counts_test):\n",
    "    print(f\"  {label_encoder.inverse_transform([label])[0]}: {count}\")\n"
   ]
  },
  {
   "cell_type": "markdown",
   "id": "b2b4cdeb",
   "metadata": {},
   "source": [
    "Train Multiple Models & Evaluate"
   ]
  },
  {
   "cell_type": "markdown",
   "id": "1d216182",
   "metadata": {},
   "source": [
    " 1. Logistic Regression"
   ]
  },
  {
   "cell_type": "code",
   "execution_count": 36,
   "id": "29f5f1ef",
   "metadata": {},
   "outputs": [
    {
     "name": "stdout",
     "output_type": "stream",
     "text": [
      "🔹 Logistic Regression\n",
      "✅ Accuracy: 0.5869\n",
      "              precision    recall  f1-score   support\n",
      "\n",
      "           0       0.67      0.72      0.69       805\n",
      "           1       0.48      0.45      0.46       805\n",
      "           2       0.40      0.56      0.47       805\n",
      "           3       0.61      0.06      0.10       806\n",
      "           4       0.56      0.57      0.56       805\n",
      "           5       0.96      0.79      0.87       805\n",
      "           6       0.55      0.65      0.60       806\n",
      "           7       0.52      0.68      0.59       805\n",
      "           8       0.69      0.81      0.74       805\n",
      "\n",
      "    accuracy                           0.59      7247\n",
      "   macro avg       0.60      0.59      0.57      7247\n",
      "weighted avg       0.60      0.59      0.57      7247\n",
      "\n"
     ]
    }
   ],
   "source": [
    "from sklearn.linear_model import LogisticRegression\n",
    "from sklearn.metrics import accuracy_score, classification_report\n",
    "import numpy as np\n",
    "\n",
    "# Train\n",
    "log_model = LogisticRegression(max_iter=500, solver='liblinear')\n",
    "log_model.fit(X_train, y_train)\n",
    "\n",
    "# Predict\n",
    "log_preds = log_model.predict(X_test)\n",
    "log_acc = accuracy_score(y_test, log_preds)\n",
    "\n",
    "# Fix target names\n",
    "target_names = [str(label) for label in label_encoder.inverse_transform(np.unique(y_test))]\n",
    "\n",
    "# Report\n",
    "print(\"🔹 Logistic Regression\")\n",
    "print(f\"✅ Accuracy: {log_acc:.4f}\")\n",
    "print(classification_report(y_test, log_preds, target_names=target_names))\n"
   ]
  },
  {
   "cell_type": "markdown",
   "id": "371cd922",
   "metadata": {},
   "source": [
    "Train and Evaluate Random Forest Classifier"
   ]
  },
  {
   "cell_type": "code",
   "execution_count": 37,
   "id": "d9e85e5d",
   "metadata": {},
   "outputs": [
    {
     "name": "stdout",
     "output_type": "stream",
     "text": [
      "🌲 Random Forest Classifier\n",
      "✅ Accuracy: 0.8408\n",
      "              precision    recall  f1-score   support\n",
      "\n",
      "           0       0.95      0.93      0.94       805\n",
      "           1       0.51      0.62      0.56       805\n",
      "           2       0.52      0.59      0.55       805\n",
      "           3       0.94      0.73      0.82       806\n",
      "           4       0.89      0.83      0.86       805\n",
      "           5       0.98      0.90      0.94       805\n",
      "           6       0.95      0.97      0.96       806\n",
      "           7       0.98      1.00      0.99       805\n",
      "           8       1.00      1.00      1.00       805\n",
      "\n",
      "    accuracy                           0.84      7247\n",
      "   macro avg       0.86      0.84      0.85      7247\n",
      "weighted avg       0.86      0.84      0.85      7247\n",
      "\n"
     ]
    }
   ],
   "source": [
    "from sklearn.ensemble import RandomForestClassifier\n",
    "from sklearn.metrics import accuracy_score, classification_report\n",
    "import numpy as np\n",
    "\n",
    "# === 1. Initialize the Random Forest model ===\n",
    "rf_model = RandomForestClassifier(\n",
    "    n_estimators=100,      # Number of trees\n",
    "    max_depth=None,        # Let trees grow fully\n",
    "    random_state=42,       # For reproducibility\n",
    "    n_jobs=-1              # Use all processors\n",
    ")\n",
    "\n",
    "# === 2. Train the model ===\n",
    "rf_model.fit(X_train, y_train)\n",
    "\n",
    "# === 3. Predict on test data ===\n",
    "rf_preds = rf_model.predict(X_test)\n",
    "\n",
    "# === 4. Evaluate ===\n",
    "rf_acc = accuracy_score(y_test, rf_preds)\n",
    "\n",
    "# === 5. Fix target names to avoid TypeError in classification_report ===\n",
    "target_names = [str(label) for label in label_encoder.inverse_transform(np.unique(y_test))]\n",
    "\n",
    "# === 6. Display results ===\n",
    "print(\"🌲 Random Forest Classifier\")\n",
    "print(f\"✅ Accuracy: {rf_acc:.4f}\")\n",
    "print(classification_report(y_test, rf_preds, target_names=target_names))\n"
   ]
  },
  {
   "cell_type": "markdown",
   "id": "61299e9b",
   "metadata": {},
   "source": [
    "Train and Evaluate XGBoost Classifier"
   ]
  },
  {
   "cell_type": "code",
   "execution_count": 38,
   "id": "a9f457f5",
   "metadata": {},
   "outputs": [
    {
     "name": "stdout",
     "output_type": "stream",
     "text": [
      "⚡ XGBoost Classifier\n",
      "✅ Accuracy: 0.8110\n",
      "              precision    recall  f1-score   support\n",
      "\n",
      "           0       0.94      0.91      0.93       805\n",
      "           1       0.50      0.64      0.56       805\n",
      "           2       0.51      0.56      0.54       805\n",
      "           3       0.85      0.59      0.70       806\n",
      "           4       0.83      0.73      0.78       805\n",
      "           5       0.98      0.90      0.94       805\n",
      "           6       0.92      0.96      0.94       806\n",
      "           7       0.90      1.00      0.95       805\n",
      "           8       1.00      1.00      1.00       805\n",
      "\n",
      "    accuracy                           0.81      7247\n",
      "   macro avg       0.83      0.81      0.81      7247\n",
      "weighted avg       0.83      0.81      0.81      7247\n",
      "\n"
     ]
    }
   ],
   "source": [
    "from xgboost import XGBClassifier\n",
    "from sklearn.metrics import accuracy_score, classification_report\n",
    "import numpy as np\n",
    "\n",
    "# === 1. Initialize the XGBoost model ===\n",
    "xgb_model = XGBClassifier(\n",
    "    n_estimators=100,\n",
    "    learning_rate=0.1,\n",
    "    max_depth=6,\n",
    "    use_label_encoder=False,\n",
    "    eval_metric='mlogloss',  # multiclass objective\n",
    "    random_state=42,\n",
    "    verbosity=0\n",
    ")\n",
    "\n",
    "# === 2. Train the model ===\n",
    "xgb_model.fit(X_train, y_train)\n",
    "\n",
    "# === 3. Predict on test data ===\n",
    "xgb_preds = xgb_model.predict(X_test)\n",
    "\n",
    "# === 4. Evaluate ===\n",
    "xgb_acc = accuracy_score(y_test, xgb_preds)\n",
    "\n",
    "# === 5. Fix target names for classification report ===\n",
    "target_names = [str(label) for label in label_encoder.inverse_transform(np.unique(y_test))]\n",
    "\n",
    "# === 6. Display results ===\n",
    "print(\"⚡ XGBoost Classifier\")\n",
    "print(f\"✅ Accuracy: {xgb_acc:.4f}\")\n",
    "print(classification_report(y_test, xgb_preds, target_names=target_names))\n"
   ]
  },
  {
   "cell_type": "markdown",
   "id": "b54082fd",
   "metadata": {},
   "source": [
    "Train and Evaluate K-Nearest Neighbors (KNN)"
   ]
  },
  {
   "cell_type": "code",
   "execution_count": 39,
   "id": "d3287236",
   "metadata": {},
   "outputs": [
    {
     "name": "stdout",
     "output_type": "stream",
     "text": [
      "📍 K-Nearest Neighbors (KNN)\n",
      "✅ Accuracy: 0.7494\n",
      "              precision    recall  f1-score   support\n",
      "\n",
      "           0       0.83      0.80      0.82       805\n",
      "           1       0.49      0.65      0.56       805\n",
      "           2       0.52      0.53      0.53       805\n",
      "           3       0.64      0.67      0.65       806\n",
      "           4       0.74      0.52      0.61       805\n",
      "           5       0.97      0.82      0.89       805\n",
      "           6       0.78      0.74      0.76       806\n",
      "           7       0.90      1.00      0.95       805\n",
      "           8       0.97      1.00      0.99       805\n",
      "\n",
      "    accuracy                           0.75      7247\n",
      "   macro avg       0.76      0.75      0.75      7247\n",
      "weighted avg       0.76      0.75      0.75      7247\n",
      "\n"
     ]
    }
   ],
   "source": [
    "from sklearn.neighbors import KNeighborsClassifier\n",
    "from sklearn.metrics import accuracy_score, classification_report\n",
    "import numpy as np\n",
    "\n",
    "# === 1. Initialize KNN model ===\n",
    "knn_model = KNeighborsClassifier(\n",
    "    n_neighbors=5,  # You can tune this later\n",
    "    weights='uniform',  # All neighbors have equal weight\n",
    "    metric='minkowski',  # Default: Euclidean distance\n",
    "    n_jobs=-1           # Use all processors\n",
    ")\n",
    "\n",
    "# === 2. Train the model ===\n",
    "knn_model.fit(X_train, y_train)\n",
    "\n",
    "# === 3. Predict on test data ===\n",
    "knn_preds = knn_model.predict(X_test)\n",
    "\n",
    "# === 4. Evaluate ===\n",
    "knn_acc = accuracy_score(y_test, knn_preds)\n",
    "\n",
    "# === 5. Fix target names for classification report ===\n",
    "target_names = [str(label) for label in label_encoder.inverse_transform(np.unique(y_test))]\n",
    "\n",
    "# === 6. Display results ===\n",
    "print(\"📍 K-Nearest Neighbors (KNN)\")\n",
    "print(f\"✅ Accuracy: {knn_acc:.4f}\")\n",
    "print(classification_report(y_test, knn_preds, target_names=target_names))\n"
   ]
  },
  {
   "cell_type": "code",
   "execution_count": 40,
   "id": "8be139d5",
   "metadata": {},
   "outputs": [
    {
     "name": "stdout",
     "output_type": "stream",
     "text": [
      "📊 Model Comparison:\n",
      "                     Accuracy\n",
      "Random Forest        0.840762\n",
      "K-Nearest Neighbors  0.749414\n",
      "Logistic Regression  0.586864\n"
     ]
    },
    {
     "data": {
      "image/png": "[encoded data removed]",
      "text/plain": [
       "<Figure size 800x500 with 1 Axes>"
      ]
     },
     "metadata": {},
     "output_type": "display_data"
    }
   ],
   "source": [
    "import pandas as pd\n",
    "import matplotlib.pyplot as plt\n",
    "\n",
    "# === Collect all model accuracies ===\n",
    "model_scores = {\n",
    "    'Logistic Regression': log_acc,\n",
    "    'Random Forest': rf_acc,\n",
    "    'K-Nearest Neighbors': knn_acc\n",
    "}\n",
    "\n",
    "# === Convert to DataFrame for easy comparison ===\n",
    "comparison_df = pd.DataFrame.from_dict(model_scores, orient='index', columns=['Accuracy'])\n",
    "comparison_df = comparison_df.sort_values(by='Accuracy', ascending=False)\n",
    "\n",
    "# === Display as table ===\n",
    "print(\"📊 Model Comparison:\")\n",
    "print(comparison_df)\n",
    "\n",
    "# === Plot bar chart ===\n",
    "plt.figure(figsize=(8, 5))\n",
    "bars = plt.bar(comparison_df.index, comparison_df['Accuracy'], color='skyblue')\n",
    "plt.ylabel('Accuracy')\n",
    "plt.title('Model Accuracy Comparison')\n",
    "\n",
    "# Add value labels\n",
    "for bar in bars:\n",
    "    yval = bar.get_height()\n",
    "    plt.text(bar.get_x() + bar.get_width()/2.0, yval + 0.01, f'{yval:.4f}', ha='center', va='bottom')\n",
    "\n",
    "plt.ylim(0, 1.1)\n",
    "plt.xticks(rotation=20)\n",
    "plt.tight_layout()\n",
    "plt.show()\n"
   ]
  },
  {
   "cell_type": "markdown",
   "id": "320f40d1",
   "metadata": {},
   "source": [
    "save the best mobel"
   ]
  },
  {
   "cell_type": "code",
   "execution_count": 41,
   "id": "56800e5e",
   "metadata": {},
   "outputs": [
    {
     "name": "stdout",
     "output_type": "stream",
     "text": [
      "✅ Model saved as 'best_attack_classifier_model.pkl'\n"
     ]
    }
   ],
   "source": [
    "import joblib\n",
    "\n",
    "# Save the trained Random Forest model to a .pkl file\n",
    "joblib.dump(rf_model, 'best_attack_classifier_model.pkl')\n",
    "\n",
    "print(\"✅ Model saved as 'best_attack_classifier_model.pkl'\")\n"
   ]
  },
  {
   "cell_type": "code",
   "execution_count": 44,
   "id": "e83b9f00",
   "metadata": {},
   "outputs": [
    {
     "data": {
      "text/plain": [
       "['selected_features.pkl']"
      ]
     },
     "execution_count": 44,
     "metadata": {},
     "output_type": "execute_result"
    }
   ],
   "source": [
    "selected_feature_names = X_scaled_df.columns[selector.get_support()].tolist()\n",
    "joblib.dump(selected_feature_names, \"selected_features.pkl\")\n"
   ]
  },
  {
   "cell_type": "code",
   "execution_count": 47,
   "id": "12cffde7",
   "metadata": {},
   "outputs": [
    {
     "data": {
      "text/plain": [
       "['selected_features.pkl']"
      ]
     },
     "execution_count": 47,
     "metadata": {},
     "output_type": "execute_result"
    }
   ],
   "source": [
    "# Save your trained model, label encoder, and selected feature names\n",
    "import joblib\n",
    "\n",
    "\n",
    "joblib.dump(selected_feature_names, \"selected_features.pkl\")  # must be ordered list of top 40 features\n"
   ]
  }
 ],
 "metadata": {
  "kernelspec": {
   "display_name": ".venv",
   "language": "python",
   "name": "python3"
  },
  "language_info": {
   "codemirror_mode": {
    "name": "ipython",
    "version": 3
   },
   "file_extension": ".py",
   "mimetype": "text/x-python",
   "name": "python",
   "nbconvert_exporter": "python",
   "pygments_lexer": "ipython3",
   "version": "3.13.0"
  }
 },
 "nbformat": 4,
 "nbformat_minor": 5
}
